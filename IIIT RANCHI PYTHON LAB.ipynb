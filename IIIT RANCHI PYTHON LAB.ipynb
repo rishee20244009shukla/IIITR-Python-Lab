{
  "cells": [
    {
      "cell_type": "markdown",
      "metadata": {
        "id": "vfwpZSVdbZPe"
      },
      "source": [
        "1. Swap two variable without using third variable."
      ]
    },
    {
      "cell_type": "code",
      "execution_count": null,
      "metadata": {
        "colab": {
          "base_uri": "https://localhost:8080/"
        },
        "id": "U-r2mZp2bf7l",
        "outputId": "eb285d90-4e5b-4ef0-88fa-fa5e366c0e9b"
      },
      "outputs": [
        {
          "name": "stdout",
          "output_type": "stream",
          "text": [
            "Before swapping x=10 and y=45\n",
            "After swapping x=45 and y=10\n"
          ]
        }
      ],
      "source": [
        "x=10\n",
        "y=45\n",
        "print(f\"Before swapping x={x} and y={y}\")\n",
        "x,y=y,x\n",
        "print(f\"After swapping x={x} and y={y}\")"
      ]
    },
    {
      "cell_type": "markdown",
      "metadata": {
        "id": "7Sm_e_E5bv41"
      },
      "source": [
        "2. create a program to compute student's average marks and grade\n",
        "if marks>=90 A\n",
        "80-89 B\n",
        "70-79 C\n",
        "60-69 D\n",
        "below 60 fail"
      ]
    },
    {
      "cell_type": "markdown",
      "metadata": {
        "id": "aFGrMAihmDem"
      },
      "source": []
    },
    {
      "cell_type": "code",
      "execution_count": null,
      "metadata": {
        "id": "DqcHTOPOcJL4"
      },
      "outputs": [],
      "source": [
        "marks1=int(input(\"enter your  english marks:\"))\n",
        "marks2=int(input(\"enter your  biology marks:\"))\n",
        "marks3=int(input(\"enter your  chemistry marks:\"))\n",
        "marks4=int(input(\"enter your  physics marks:\"))\n",
        "marks5=int(input(\"enter your  maths marks:\"))\n",
        "avg=(marks1+marks2+marks3+marks4+marks5)/5\n",
        "if avg>=90:\n",
        "    print(\"A\")\n",
        "elif avg>=80 and avg<90:\n",
        "    print(\"B\")\n",
        "elif avg>=70 and avg<80:\n",
        "    print(\"C\")\n",
        "elif avg>=60 and avg<70:\n",
        "    print(\"D\")\n",
        "else:\n",
        "    print(\"fail\")\n",
        "print(\"average is :\",avg)"
      ]
    },
    {
      "cell_type": "markdown",
      "metadata": {
        "id": "3V7IndshdaPq"
      },
      "source": [
        "3. write a program to calculate perimetrer area of rectangle"
      ]
    },
    {
      "cell_type": "code",
      "execution_count": null,
      "metadata": {
        "colab": {
          "base_uri": "https://localhost:8080/"
        },
        "id": "DFwMoWL6dhvV",
        "outputId": "8dc44adf-93fb-4f76-8954-025fc5143ddd"
      },
      "outputs": [
        {
          "name": "stdout",
          "output_type": "stream",
          "text": [
            "enter the length of rectangle:78\n",
            "enter the breadth of rectangle:65\n",
            "perimeter of rectangle is : 286\n",
            "area of rectangle is : 5070\n"
          ]
        }
      ],
      "source": [
        "length=int(input(\"enter the length of rectangle:\"))\n",
        "breadth=int(input(\"enter the breadth of rectangle:\"))\n",
        "perimeter=2*(length+breadth)\n",
        "area=length*breadth\n",
        "print(\"perimeter of rectangle is :\",perimeter)\n",
        "print(\"area of rectangle is :\",area)"
      ]
    },
    {
      "cell_type": "markdown",
      "metadata": {
        "id": "lGpARBBZdwRu"
      },
      "source": [
        "4. input two complex number and add ,difference and multiply them"
      ]
    },
    {
      "cell_type": "code",
      "execution_count": null,
      "metadata": {
        "colab": {
          "base_uri": "https://localhost:8080/"
        },
        "id": "AtA1KeWoeBn3",
        "outputId": "4d7a1b90-311a-4791-bd56-c7389d321484"
      },
      "outputs": [
        {
          "name": "stdout",
          "output_type": "stream",
          "text": [
            "enter the first complex number:5+3j\n",
            "enter the second complex number:6+9j\n",
            "addition of two complex number is : (11+12j)\n",
            "differnce of two complex number is : (-1-6j)\n",
            "product of two complex number is : (3+63j)\n"
          ]
        }
      ],
      "source": [
        "x=complex(input(\"enter the first complex number:\"))\n",
        "y=complex(input(\"enter the second complex number:\"))\n",
        "print(\"addition of two complex number is :\",x+y)\n",
        "print(\"differnce of two complex number is :\",x-y)\n",
        "print(\"product of two complex number is :\",x*y)"
      ]
    },
    {
      "cell_type": "markdown",
      "metadata": {
        "id": "YcJhKc69ee7T"
      },
      "source": [
        "5. convert celcius into farenheit temperature"
      ]
    },
    {
      "cell_type": "code",
      "execution_count": null,
      "metadata": {
        "colab": {
          "base_uri": "https://localhost:8080/"
        },
        "id": "VgzuCNB6ekGP",
        "outputId": "eda9a691-1f7e-49a0-dafb-79ac65dec7c2"
      },
      "outputs": [
        {
          "name": "stdout",
          "output_type": "stream",
          "text": [
            "enter the temperature in celcius:36\n",
            "temperature in farenheit is : 96.8\n",
            "enter the temperature in farenheit:96.8\n",
            "temperature in celcius is : 36.0\n"
          ]
        }
      ],
      "source": [
        "celcius=float(input(\"enter the temperature in celcius:\"))\n",
        "farenheit=(celcius*9/5)+32\n",
        "print(\"temperature in farenheit is :\",farenheit)\n",
        "\n",
        "farenheit=float(input(\"enter the temperature in farenheit:\"))\n",
        "celcius=(farenheit-32)*5/9\n",
        "print(\"temperature in celcius is :\",celcius)\n"
      ]
    },
    {
      "cell_type": "markdown",
      "metadata": {
        "id": "nmlSvFsqfhi1"
      },
      "source": [
        "6. make a caculator"
      ]
    },
    {
      "cell_type": "code",
      "execution_count": null,
      "metadata": {
        "colab": {
          "base_uri": "https://localhost:8080/"
        },
        "id": "ckJpYopufp3H",
        "outputId": "4dab3f8c-8b0c-4d96-dca8-c6fb660db9f4"
      },
      "outputs": [
        {
          "name": "stdout",
          "output_type": "stream",
          "text": [
            "enter the first number:45\n",
            "enter the second number:78\n",
            "enter your choice(+,-,*,/):*\n",
            "3510\n"
          ]
        }
      ],
      "source": [
        "x=int(input(\"enter the first number:\"))\n",
        "y=int(input(\"enter the second number:\"))\n",
        "user_choice=input(\"enter your choice(+,-,*,/):\")\n",
        "if user_choice==\"+\":\n",
        "    print(x+y)\n",
        "elif user_choice==\"-\":\n",
        "    print(x-y)\n",
        "elif user_choice==\"*\":\n",
        "    print(x*y)\n",
        "elif user_choice==\"/\":\n",
        "    print(x/y)\n"
      ]
    },
    {
      "cell_type": "markdown",
      "metadata": {
        "id": "L6-Bku7lgKlp"
      },
      "source": [
        "7. calculate factorial of a number"
      ]
    },
    {
      "cell_type": "code",
      "execution_count": null,
      "metadata": {
        "colab": {
          "base_uri": "https://localhost:8080/"
        },
        "id": "VVcSD2rAgTJW",
        "outputId": "292f2fe0-0285-432a-d315-40c718089db8"
      },
      "outputs": [
        {
          "name": "stdout",
          "output_type": "stream",
          "text": [
            "enter the number:4\n",
            "factorial of 4 is 24\n"
          ]
        }
      ],
      "source": [
        "number=int(input(\"enter the number:\"))\n",
        "fact=1\n",
        "for i in range(1,number+1):\n",
        "    fact=fact*i\n",
        "print(\"factorial of\",number,\"is\",fact)\n"
      ]
    },
    {
      "cell_type": "markdown",
      "metadata": {
        "id": "asX48XPYgz07"
      },
      "source": [
        "8. give fibonacci series uoto given number"
      ]
    },
    {
      "cell_type": "code",
      "execution_count": null,
      "metadata": {
        "colab": {
          "base_uri": "https://localhost:8080/"
        },
        "id": "VKUND0CahETH",
        "outputId": "6c5d00c4-89d9-4d2b-da96-c0f8e0ccf8df"
      },
      "outputs": [
        {
          "name": "stdout",
          "output_type": "stream",
          "text": [
            "enter the number:7\n",
            "0\n",
            "1\n",
            "1\n",
            "2\n",
            "3\n",
            "5\n",
            "8\n"
          ]
        }
      ],
      "source": [
        "num=int(input(\"enter the number:\"))\n",
        "a=0\n",
        "b=1\n",
        "print(a)\n",
        "print(b)\n",
        "for i in range(2,num):\n",
        "  c=a+b\n",
        "  a=b\n",
        "  b=c\n",
        "  print(c)\n"
      ]
    },
    {
      "cell_type": "markdown",
      "metadata": {
        "id": "A-zKzS28i2LO"
      },
      "source": [
        "9. find the second largest number in a **list**"
      ]
    },
    {
      "cell_type": "code",
      "execution_count": null,
      "metadata": {
        "colab": {
          "base_uri": "https://localhost:8080/"
        },
        "id": "6kwnxi4-i9Sb",
        "outputId": "610606cb-d398-4643-abd4-9a70a167612b"
      },
      "outputs": [
        {
          "name": "stdout",
          "output_type": "stream",
          "text": [
            "second largest number is : 49\n"
          ]
        }
      ],
      "source": [
        "list1=[23,45,67,12,42,49]\n",
        "largest=max(list1)\n",
        "list1.remove(largest)\n",
        "second_largest=max(list1)\n",
        "print(\"second largest number is :\",second_largest)"
      ]
    },
    {
      "cell_type": "markdown",
      "metadata": {
        "id": "cB5sCd6zj_5I"
      },
      "source": [
        "10. count the number of words using split function."
      ]
    },
    {
      "cell_type": "code",
      "execution_count": null,
      "metadata": {
        "colab": {
          "base_uri": "https://localhost:8080/"
        },
        "id": "nUi99FAIkFvj",
        "outputId": "fdd3d4e4-49c7-4a93-cdc4-98f9fc01319a"
      },
      "outputs": [
        {
          "name": "stdout",
          "output_type": "stream",
          "text": [
            "['hey!', 'what', 'are', 'you', 'doing?', 'when', 'are', 'you', 'going', 'home?']\n",
            "10\n"
          ]
        }
      ],
      "source": [
        "sentence=\"hey! what are you doing? when are you going home?\"\n",
        "words=sentence.split()\n",
        "print(words)\n",
        "print(len(words))"
      ]
    },
    {
      "cell_type": "markdown",
      "metadata": {
        "id": "CDrSYOM6mFMm"
      },
      "source": [
        "11. In an ac circuit the total impedence z of a series RLC circuit z=r+j(wl-1/wc)\n",
        "your task is to compute the impedence as complex number and magnitude and find the angle.\n",
        "w=2pif\n"
      ]
    },
    {
      "cell_type": "code",
      "execution_count": null,
      "metadata": {
        "colab": {
          "base_uri": "https://localhost:8080/"
        },
        "id": "jNrd15pQmtIF",
        "outputId": "f78f51fb-6e68-4632-ae4b-740536372c49"
      },
      "outputs": [
        {
          "name": "stdout",
          "output_type": "stream",
          "text": [
            "(100+157.07961521027272j)\n",
            "186.20957417546322\n"
          ]
        },
        {
          "data": {
            "text/plain": [
              "57.518360522834264"
            ]
          },
          "execution_count": 11,
          "metadata": {},
          "output_type": "execute_result"
        }
      ],
      "source": [
        "import math\n",
        "import cmath\n",
        "r=100\n",
        "l=0.5\n",
        "c=100*(math.e**0.6)\n",
        "f=50\n",
        "w=2*math.pi*f\n",
        "k=(w*l-1/(w*c))\n",
        "s=complex(r,k)\n",
        "print(s)\n",
        "print(abs(s))\n",
        "math.degrees(cmath.phase(s))"
      ]
    },
    {
      "cell_type": "code",
      "execution_count": null,
      "metadata": {},
      "outputs": [],
      "source": []
    },
    {
      "cell_type": "code",
      "execution_count": null,
      "metadata": {
        "id": "Ln8qDA7NnrXD"
      },
      "outputs": [],
      "source": []
    }
  ],
  "metadata": {
    "colab": {
      "provenance": []
    },
    "kernelspec": {
      "display_name": "Python 3",
      "name": "python3"
    },
    "language_info": {
      "name": "python"
    }
  },
  "nbformat": 4,
  "nbformat_minor": 0
}
